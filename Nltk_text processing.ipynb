{
 "cells": [
  {
   "cell_type": "code",
   "execution_count": 1,
   "metadata": {},
   "outputs": [],
   "source": [
    "import nltk"
   ]
  },
  {
   "cell_type": "code",
   "execution_count": 2,
   "metadata": {},
   "outputs": [],
   "source": [
    "from nltk.tokenize import sent_tokenize"
   ]
  },
  {
   "cell_type": "code",
   "execution_count": 3,
   "metadata": {},
   "outputs": [],
   "source": [
    "text=\"\"\"Hello Mr. Smith how are you doing and this is a fantastic news. I am really happy to hear that you are doing greate in your personal life.\n",
    "I think now is the time to get started with it. you have been really helpful in achieving the goals for today.\"\"\""
   ]
  },
  {
   "cell_type": "code",
   "execution_count": 8,
   "metadata": {},
   "outputs": [],
   "source": [
    "# Now we are going to tokenize the text into sentence\n",
    "t_text=sent_tokenize(text)"
   ]
  },
  {
   "cell_type": "code",
   "execution_count": 9,
   "metadata": {},
   "outputs": [
    {
     "name": "stdout",
     "output_type": "stream",
     "text": [
      "['Hello Mr. Smith how are you doing and this is a fantastic news.', 'I am really happy to hear that you are doing greate in your personal life.', 'I think now is the time to get started with it.', 'you have been really helpful in achieving the goals for today.']\n"
     ]
    }
   ],
   "source": [
    "print(t_text)"
   ]
  },
  {
   "cell_type": "code",
   "execution_count": 10,
   "metadata": {},
   "outputs": [],
   "source": [
    "# now we intend to tokenize the sentence into words\n",
    "from nltk.tokenize import word_tokenize"
   ]
  },
  {
   "cell_type": "code",
   "execution_count": 11,
   "metadata": {},
   "outputs": [],
   "source": [
    "t_word=word_tokenize(text)"
   ]
  },
  {
   "cell_type": "code",
   "execution_count": 12,
   "metadata": {},
   "outputs": [
    {
     "name": "stdout",
     "output_type": "stream",
     "text": [
      "['Hello', 'Mr.', 'Smith', 'how', 'are', 'you', 'doing', 'and', 'this', 'is', 'a', 'fantastic', 'news', '.', 'I', 'am', 'really', 'happy', 'to', 'hear', 'that', 'you', 'are', 'doing', 'greate', 'in', 'your', 'personal', 'life', '.', 'I', 'think', 'now', 'is', 'the', 'time', 'to', 'get', 'started', 'with', 'it', '.', 'you', 'have', 'been', 'really', 'helpful', 'in', 'achieving', 'the', 'goals', 'for', 'today', '.']\n"
     ]
    }
   ],
   "source": [
    "# Print the tokenized word\n",
    "print(t_word)"
   ]
  },
  {
   "cell_type": "code",
   "execution_count": 13,
   "metadata": {},
   "outputs": [],
   "source": [
    "# Now we are interested in finding the frequency distribution of the words in the text\n",
    "from nltk.probability import FreqDist"
   ]
  },
  {
   "cell_type": "code",
   "execution_count": 14,
   "metadata": {},
   "outputs": [],
   "source": [
    "f_dist=FreqDist(t_word)"
   ]
  },
  {
   "cell_type": "code",
   "execution_count": 15,
   "metadata": {},
   "outputs": [
    {
     "data": {
      "text/plain": [
       "[('.', 4), ('you', 3), ('are', 2), ('doing', 2), ('is', 2)]"
      ]
     },
     "execution_count": 15,
     "metadata": {},
     "output_type": "execute_result"
    }
   ],
   "source": [
    "# Now we want to print the top 5 most common words in our text\n",
    "f_dist.most_common(5)"
   ]
  },
  {
   "cell_type": "code",
   "execution_count": 16,
   "metadata": {},
   "outputs": [],
   "source": [
    "# Lets do frequency distribution plot"
   ]
  },
  {
   "cell_type": "code",
   "execution_count": 17,
   "metadata": {},
   "outputs": [],
   "source": [
    "import matplotlib.pyplot as plt"
   ]
  },
  {
   "cell_type": "code",
   "execution_count": 18,
   "metadata": {},
   "outputs": [
    {
     "data": {
      "image/png": "[encoded data removed]",
      "text/plain": [
       "<Figure size 432x288 with 1 Axes>"
      ]
     },
     "metadata": {
      "needs_background": "light"
     },
     "output_type": "display_data"
    }
   ],
   "source": [
    "f_dist.plot(30,cumulative=False)"
   ]
  },
  {
   "cell_type": "code",
   "execution_count": 20,
   "metadata": {},
   "outputs": [],
   "source": [
    "# Now we would like to remove stopwords from our text \n",
    "# stopwords can also be custom built\n",
    "# We will use the nltk library list of stopwords\n",
    "from nltk.corpus import stopwords"
   ]
  },
  {
   "cell_type": "code",
   "execution_count": 24,
   "metadata": {},
   "outputs": [],
   "source": [
    "stop_words=set(stopwords.words(\"english\"))"
   ]
  },
  {
   "cell_type": "code",
   "execution_count": 25,
   "metadata": {},
   "outputs": [
    {
     "name": "stdout",
     "output_type": "stream",
     "text": [
      "{'both', 'll', 'their', 'wasn', 'who', 'haven', \"it's\", 'those', 'and', 've', 'themselves', 'me', \"you'll\", \"that'll\", 'wouldn', 'over', 'do', 'mightn', 'below', 'shouldn', 'not', 'ours', 'were', 'for', 'mustn', 'weren', 'm', \"should've\", 'we', 'in', 'there', \"shouldn't\", 'very', \"weren't\", 'about', 'herself', 'between', 'she', 'it', 'yours', 'o', 'you', 'was', \"shan't\", 'am', 'doing', 're', 'my', 'shan', 'where', 'because', 'ourselves', 'aren', 'they', 'same', 'does', 'that', 'above', 'will', 'into', 'these', 'against', \"you'd\", 'myself', 'to', 'nor', 'here', 's', 'yourself', 'other', 'having', 'how', 'of', 'by', 'until', 'more', 'is', 'but', 'which', 'what', \"you're\", 'had', 'hadn', 'being', \"didn't\", 'theirs', 'if', 'been', \"aren't\", 'won', 'few', \"she's\", 'once', 'while', 'i', 'own', 'only', 'such', 'or', 'up', 'further', 'than', 'couldn', 'most', 'isn', 'our', 'at', 'her', \"haven't\", 'him', 'no', 'have', 'down', 'ain', 'with', \"wouldn't\", 'its', 't', \"couldn't\", 'don', 'needn', \"hadn't\", \"needn't\", 'then', 'ma', 'his', 'has', 'yourselves', 'now', \"mustn't\", 'from', 'all', \"hasn't\", \"won't\", 'through', 'hasn', 'whom', 'again', 'some', 'can', 'doesn', 'hers', \"mightn't\", 'this', 'before', \"you've\", 'should', 'did', 'an', 'during', \"doesn't\", \"don't\", 'each', \"wasn't\", 'he', 'after', 'y', 'didn', 'so', 'just', 'be', 'himself', 'a', 'too', 'out', 'why', 'are', \"isn't\", 'under', 'the', 'itself', 'd', 'on', 'them', 'your', 'any', 'as', 'when', 'off'}\n"
     ]
    }
   ],
   "source": [
    "# lets print the stopwords\n",
    "print(stop_words)"
   ]
  },
  {
   "cell_type": "code",
   "execution_count": 26,
   "metadata": {},
   "outputs": [
    {
     "data": {
      "text/plain": [
       "179"
      ]
     },
     "execution_count": 26,
     "metadata": {},
     "output_type": "execute_result"
    }
   ],
   "source": [
    "len(stop_words)"
   ]
  },
  {
   "cell_type": "code",
   "execution_count": 27,
   "metadata": {},
   "outputs": [],
   "source": [
    "# Let's remove stopwords\n",
    "filtered_words=[]"
   ]
  },
  {
   "cell_type": "code",
   "execution_count": 28,
   "metadata": {},
   "outputs": [],
   "source": [
    "for word in t_word:\n",
    "    if word not in stop_words:\n",
    "        filtered_words.append(word)"
   ]
  },
  {
   "cell_type": "code",
   "execution_count": 32,
   "metadata": {},
   "outputs": [],
   "source": [
    "# Now we have successfully removed the stopwords from the text"
   ]
  },
  {
   "cell_type": "code",
   "execution_count": 33,
   "metadata": {},
   "outputs": [
    {
     "data": {
      "text/plain": [
       "['Hello',\n",
       " 'Mr.',\n",
       " 'Smith',\n",
       " 'fantastic',\n",
       " 'news',\n",
       " '.',\n",
       " 'I',\n",
       " 'really',\n",
       " 'happy',\n",
       " 'hear',\n",
       " 'greate',\n",
       " 'personal',\n",
       " 'life',\n",
       " '.',\n",
       " 'I',\n",
       " 'think',\n",
       " 'time',\n",
       " 'get',\n",
       " 'started',\n",
       " '.',\n",
       " 'really',\n",
       " 'helpful',\n",
       " 'achieving',\n",
       " 'goals',\n",
       " 'today',\n",
       " '.']"
      ]
     },
     "execution_count": 33,
     "metadata": {},
     "output_type": "execute_result"
    }
   ],
   "source": [
    "# Let's print the filtered words\n",
    "filtered_words"
   ]
  },
  {
   "cell_type": "code",
   "execution_count": null,
   "metadata": {},
   "outputs": [],
   "source": []
  }
 ],
 "metadata": {
  "kernelspec": {
   "display_name": "Python 3",
   "language": "python",
   "name": "python3"
  },
  "language_info": {
   "codemirror_mode": {
    "name": "ipython",
    "version": 3
   },
   "file_extension": ".py",
   "mimetype": "text/x-python",
   "name": "python",
   "nbconvert_exporter": "python",
   "pygments_lexer": "ipython3",
   "version": "3.6.5"
  }
 },
 "nbformat": 4,
 "nbformat_minor": 2
}

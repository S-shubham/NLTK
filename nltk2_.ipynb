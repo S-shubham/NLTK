{
 "cells": [
  {
   "cell_type": "code",
   "execution_count": 1,
   "metadata": {},
   "outputs": [],
   "source": [
    "import nltk"
   ]
  },
  {
   "cell_type": "code",
   "execution_count": 2,
   "metadata": {},
   "outputs": [],
   "source": [
    "from nltk.corpus import gutenberg"
   ]
  },
  {
   "cell_type": "code",
   "execution_count": 3,
   "metadata": {},
   "outputs": [],
   "source": [
    "# Lets print some texts contained in nltk form project gutenberg"
   ]
  },
  {
   "cell_type": "code",
   "execution_count": 6,
   "metadata": {},
   "outputs": [
    {
     "data": {
      "text/plain": [
       "['austen-emma.txt',\n",
       " 'austen-persuasion.txt',\n",
       " 'austen-sense.txt',\n",
       " 'bible-kjv.txt',\n",
       " 'blake-poems.txt',\n",
       " 'bryant-stories.txt',\n",
       " 'burgess-busterbrown.txt',\n",
       " 'carroll-alice.txt',\n",
       " 'chesterton-ball.txt',\n",
       " 'chesterton-brown.txt',\n",
       " 'chesterton-thursday.txt',\n",
       " 'edgeworth-parents.txt',\n",
       " 'melville-moby_dick.txt',\n",
       " 'milton-paradise.txt',\n",
       " 'shakespeare-caesar.txt',\n",
       " 'shakespeare-hamlet.txt',\n",
       " 'shakespeare-macbeth.txt',\n",
       " 'whitman-leaves.txt']"
      ]
     },
     "execution_count": 6,
     "metadata": {},
     "output_type": "execute_result"
    }
   ],
   "source": [
    "gutenberg.fileids()"
   ]
  },
  {
   "cell_type": "code",
   "execution_count": 7,
   "metadata": {},
   "outputs": [],
   "source": [
    "# Lets do some processing on each of the text files in nltk"
   ]
  },
  {
   "cell_type": "code",
   "execution_count": 8,
   "metadata": {},
   "outputs": [
    {
     "name": "stdout",
     "output_type": "stream",
     "text": [
      "*****\n",
      "austen-emma.txt\n",
      "Average no. of characters per word is :  5\n",
      "Average no. of words per sentence is :  25\n",
      "Average frequency of word in text is :  26\n",
      "______\n",
      "*****\n",
      "austen-persuasion.txt\n",
      "Average no. of characters per word is :  5\n",
      "Average no. of words per sentence is :  26\n",
      "Average frequency of word in text is :  17\n",
      "______\n",
      "*****\n",
      "austen-sense.txt\n",
      "Average no. of characters per word is :  5\n",
      "Average no. of words per sentence is :  28\n",
      "Average frequency of word in text is :  22\n",
      "______\n",
      "*****\n",
      "bible-kjv.txt\n",
      "Average no. of characters per word is :  4\n",
      "Average no. of words per sentence is :  34\n",
      "Average frequency of word in text is :  79\n",
      "______\n",
      "*****\n",
      "blake-poems.txt\n",
      "Average no. of characters per word is :  5\n",
      "Average no. of words per sentence is :  19\n",
      "Average frequency of word in text is :  5\n",
      "______\n",
      "*****\n",
      "bryant-stories.txt\n",
      "Average no. of characters per word is :  4\n",
      "Average no. of words per sentence is :  19\n",
      "Average frequency of word in text is :  14\n",
      "______\n",
      "*****\n",
      "burgess-busterbrown.txt\n",
      "Average no. of characters per word is :  4\n",
      "Average no. of words per sentence is :  18\n",
      "Average frequency of word in text is :  12\n",
      "______\n",
      "*****\n",
      "carroll-alice.txt\n",
      "Average no. of characters per word is :  4\n",
      "Average no. of words per sentence is :  20\n",
      "Average frequency of word in text is :  13\n",
      "______\n",
      "*****\n",
      "chesterton-ball.txt\n",
      "Average no. of characters per word is :  5\n",
      "Average no. of words per sentence is :  20\n",
      "Average frequency of word in text is :  12\n",
      "______\n",
      "*****\n",
      "chesterton-brown.txt\n",
      "Average no. of characters per word is :  5\n",
      "Average no. of words per sentence is :  23\n",
      "Average frequency of word in text is :  11\n",
      "______\n",
      "*****\n",
      "chesterton-thursday.txt\n",
      "Average no. of characters per word is :  5\n",
      "Average no. of words per sentence is :  18\n",
      "Average frequency of word in text is :  11\n",
      "______\n",
      "*****\n",
      "edgeworth-parents.txt\n",
      "Average no. of characters per word is :  4\n",
      "Average no. of words per sentence is :  21\n",
      "Average frequency of word in text is :  25\n",
      "______\n",
      "*****\n",
      "melville-moby_dick.txt\n",
      "Average no. of characters per word is :  5\n",
      "Average no. of words per sentence is :  26\n",
      "Average frequency of word in text is :  15\n",
      "______\n",
      "*****\n",
      "milton-paradise.txt\n",
      "Average no. of characters per word is :  5\n",
      "Average no. of words per sentence is :  52\n",
      "Average frequency of word in text is :  11\n",
      "______\n",
      "*****\n",
      "shakespeare-caesar.txt\n",
      "Average no. of characters per word is :  4\n",
      "Average no. of words per sentence is :  12\n",
      "Average frequency of word in text is :  9\n",
      "______\n",
      "*****\n",
      "shakespeare-hamlet.txt\n",
      "Average no. of characters per word is :  4\n",
      "Average no. of words per sentence is :  12\n",
      "Average frequency of word in text is :  8\n",
      "______\n",
      "*****\n",
      "shakespeare-macbeth.txt\n",
      "Average no. of characters per word is :  4\n",
      "Average no. of words per sentence is :  12\n",
      "Average frequency of word in text is :  7\n",
      "______\n",
      "*****\n",
      "whitman-leaves.txt\n",
      "Average no. of characters per word is :  5\n",
      "Average no. of words per sentence is :  36\n",
      "Average frequency of word in text is :  12\n",
      "______\n"
     ]
    }
   ],
   "source": [
    "for fileid in gutenberg.fileids():\n",
    "    num_chars=len(gutenberg.raw(fileid))\n",
    "    num_words=len(gutenberg.words(fileid))\n",
    "    num_sents=len(gutenberg.sents(fileid))\n",
    "    num_vocab=len(set(w.lower() for w in gutenberg.words(fileid)))\n",
    "    # Lets print the stats\n",
    "    print(\"*****\")\n",
    "    print(fileid)\n",
    "    print(\"Average no. of characters per word is : \",round(num_chars/num_words))\n",
    "    print(\"Average no. of words per sentence is : \",round(num_words/num_sents))\n",
    "    print(\"Average frequency of word in text is : \",round(num_words/num_vocab))\n",
    "    print(\"______\")"
   ]
  },
  {
   "cell_type": "code",
   "execution_count": 9,
   "metadata": {},
   "outputs": [],
   "source": [
    "# If observed closely a very surprising revealatioin occurs\n",
    "# Notice the average word length is 4/5, which is a characteristics of english language\n",
    "# Average sentence length is the characteristic of the author. "
   ]
  },
  {
   "cell_type": "code",
   "execution_count": 11,
   "metadata": {},
   "outputs": [],
   "source": [
    "mb=gutenberg.sents('shakespeare-macbeth.txt')"
   ]
  },
  {
   "cell_type": "code",
   "execution_count": 12,
   "metadata": {},
   "outputs": [
    {
     "data": {
      "text/plain": [
       "[['[', 'The', 'Tragedie', 'of', 'Macbeth', 'by', 'William', 'Shakespeare', '1603', ']'], ['Actus', 'Primus', '.'], ...]"
      ]
     },
     "execution_count": 12,
     "metadata": {},
     "output_type": "execute_result"
    }
   ],
   "source": [
    "mb"
   ]
  },
  {
   "cell_type": "code",
   "execution_count": 13,
   "metadata": {},
   "outputs": [
    {
     "data": {
      "text/plain": [
       "1907"
      ]
     },
     "execution_count": 13,
     "metadata": {},
     "output_type": "execute_result"
    }
   ],
   "source": [
    "len(mb)"
   ]
  },
  {
   "cell_type": "code",
   "execution_count": 14,
   "metadata": {},
   "outputs": [],
   "source": [
    "# There are 1907 sentences"
   ]
  },
  {
   "cell_type": "code",
   "execution_count": 16,
   "metadata": {},
   "outputs": [],
   "source": [
    "# lets find the length of the longest sentence in the text\n",
    "longest=(max(len(s) for s in mb))"
   ]
  },
  {
   "cell_type": "code",
   "execution_count": 18,
   "metadata": {},
   "outputs": [
    {
     "data": {
      "text/plain": [
       "[['Doubtfull',\n",
       "  'it',\n",
       "  'stood',\n",
       "  ',',\n",
       "  'As',\n",
       "  'two',\n",
       "  'spent',\n",
       "  'Swimmers',\n",
       "  ',',\n",
       "  'that',\n",
       "  'doe',\n",
       "  'cling',\n",
       "  'together',\n",
       "  ',',\n",
       "  'And',\n",
       "  'choake',\n",
       "  'their',\n",
       "  'Art',\n",
       "  ':',\n",
       "  'The',\n",
       "  'mercilesse',\n",
       "  'Macdonwald',\n",
       "  '(',\n",
       "  'Worthie',\n",
       "  'to',\n",
       "  'be',\n",
       "  'a',\n",
       "  'Rebell',\n",
       "  ',',\n",
       "  'for',\n",
       "  'to',\n",
       "  'that',\n",
       "  'The',\n",
       "  'multiplying',\n",
       "  'Villanies',\n",
       "  'of',\n",
       "  'Nature',\n",
       "  'Doe',\n",
       "  'swarme',\n",
       "  'vpon',\n",
       "  'him',\n",
       "  ')',\n",
       "  'from',\n",
       "  'the',\n",
       "  'Westerne',\n",
       "  'Isles',\n",
       "  'Of',\n",
       "  'Kernes',\n",
       "  'and',\n",
       "  'Gallowgrosses',\n",
       "  'is',\n",
       "  'supply',\n",
       "  \"'\",\n",
       "  'd',\n",
       "  ',',\n",
       "  'And',\n",
       "  'Fortune',\n",
       "  'on',\n",
       "  'his',\n",
       "  'damned',\n",
       "  'Quarry',\n",
       "  'smiling',\n",
       "  ',',\n",
       "  'Shew',\n",
       "  \"'\",\n",
       "  'd',\n",
       "  'like',\n",
       "  'a',\n",
       "  'Rebells',\n",
       "  'Whore',\n",
       "  ':',\n",
       "  'but',\n",
       "  'all',\n",
       "  \"'\",\n",
       "  's',\n",
       "  'too',\n",
       "  'weake',\n",
       "  ':',\n",
       "  'For',\n",
       "  'braue',\n",
       "  'Macbeth',\n",
       "  '(',\n",
       "  'well',\n",
       "  'hee',\n",
       "  'deserues',\n",
       "  'that',\n",
       "  'Name',\n",
       "  ')',\n",
       "  'Disdayning',\n",
       "  'Fortune',\n",
       "  ',',\n",
       "  'with',\n",
       "  'his',\n",
       "  'brandisht',\n",
       "  'Steele',\n",
       "  ',',\n",
       "  'Which',\n",
       "  'smoak',\n",
       "  \"'\",\n",
       "  'd',\n",
       "  'with',\n",
       "  'bloody',\n",
       "  'execution',\n",
       "  '(',\n",
       "  'Like',\n",
       "  'Valours',\n",
       "  'Minion',\n",
       "  ')',\n",
       "  'caru',\n",
       "  \"'\",\n",
       "  'd',\n",
       "  'out',\n",
       "  'his',\n",
       "  'passage',\n",
       "  ',',\n",
       "  'Till',\n",
       "  'hee',\n",
       "  'fac',\n",
       "  \"'\",\n",
       "  'd',\n",
       "  'the',\n",
       "  'Slaue',\n",
       "  ':',\n",
       "  'Which',\n",
       "  'neu',\n",
       "  \"'\",\n",
       "  'r',\n",
       "  'shooke',\n",
       "  'hands',\n",
       "  ',',\n",
       "  'nor',\n",
       "  'bad',\n",
       "  'farwell',\n",
       "  'to',\n",
       "  'him',\n",
       "  ',',\n",
       "  'Till',\n",
       "  'he',\n",
       "  'vnseam',\n",
       "  \"'\",\n",
       "  'd',\n",
       "  'him',\n",
       "  'from',\n",
       "  'the',\n",
       "  'Naue',\n",
       "  'toth',\n",
       "  \"'\",\n",
       "  'Chops',\n",
       "  ',',\n",
       "  'And',\n",
       "  'fix',\n",
       "  \"'\",\n",
       "  'd',\n",
       "  'his',\n",
       "  'Head',\n",
       "  'vpon',\n",
       "  'our',\n",
       "  'Battlements']]"
      ]
     },
     "execution_count": 18,
     "metadata": {},
     "output_type": "execute_result"
    }
   ],
   "source": [
    "# lets print the sentence which has the maximum number of words in it\n",
    "[s for s in mb if len(s)==longest]"
   ]
  },
  {
   "cell_type": "code",
   "execution_count": 19,
   "metadata": {},
   "outputs": [],
   "source": [
    "# lets work with some informal text\n"
   ]
  },
  {
   "cell_type": "code",
   "execution_count": 20,
   "metadata": {},
   "outputs": [],
   "source": [
    "from nltk.corpus import webtext"
   ]
  },
  {
   "cell_type": "code",
   "execution_count": null,
   "metadata": {},
   "outputs": [],
   "source": []
  }
 ],
 "metadata": {
  "kernelspec": {
   "display_name": "Python 3",
   "language": "python",
   "name": "python3"
  },
  "language_info": {
   "codemirror_mode": {
    "name": "ipython",
    "version": 3
   },
   "file_extension": ".py",
   "mimetype": "text/x-python",
   "name": "python",
   "nbconvert_exporter": "python",
   "pygments_lexer": "ipython3",
   "version": "3.6.5"
  }
 },
 "nbformat": 4,
 "nbformat_minor": 2
}
